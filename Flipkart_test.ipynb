{
 "cells": [
  {
   "cell_type": "code",
   "execution_count": 7,
   "id": "679d65fd",
   "metadata": {},
   "outputs": [],
   "source": [
    "import csv\n",
    "from bs4 import BeautifulSoup\n",
    "from msedge.selenium_tools import Edge, EdgeOptions\n",
    "import pandas as pd\n",
    "import csv\n",
    "import json\n",
    "import requests\n",
    "from bs4 import BeautifulSoup as bs\n",
    "from urllib.request import urlopen as uReq\n",
    "import pandas as pd\n",
    "import time"
   ]
  },
  {
   "cell_type": "code",
   "execution_count": 8,
   "id": "9e43b02d",
   "metadata": {},
   "outputs": [
    {
     "name": "stdout",
     "output_type": "stream",
     "text": [
      "Enter product name (Searching on flipkart)laptop\n"
     ]
    }
   ],
   "source": [
    "test = []\n",
    "names = []\n",
    "flipPrices = []\n",
    "prodNames = []\n",
    "info,price = [],[]\n",
    "url = \"https://flipkart.com/search?q=\"\n",
    "# query to search for.\n",
    "q = input(\"Enter product name (Searching on flipkart)\")\n",
    "q = q.replace(\" \",\"+\")\n",
    "#     q = input(\"Enter a query: \")\n",
    "file_name = q.replace(\" \", \"_\")\n",
    "# response recieved in bytes\n",
    "resp = requests.get(url+q)\n",
    "# parsing response content using BeautifulSoup class, so that we can perform operations on it.\n",
    "parsed_html = bs(resp.content, 'html.parser')\n",
    "# data cleaning\n",
    "raw_data = parsed_html.find(\"script\", attrs={\"id\":\"is_script\"})\n",
    "data = raw_data.contents[0].replace(\"window.__INITIAL_STATE__ = \",\"\").replace(\";\",\"\")\n",
    "json_data = json.loads(data)\n",
    "req_data = json_data[\"pageDataV4\"][\"page\"][\"data\"][\"10003\"]   #[10][\"widget\"][\"data\"][\"products\"][3][\"productInfo\"]\n",
    "#req_json_data = json_data[\"seoMeta\"][\"answerBox\"][\"data\"][\"renderableComponents\"][0][\"value\"][\"data\"]"
   ]
  },
  {
   "cell_type": "code",
   "execution_count": 9,
   "id": "e2d0822a",
   "metadata": {},
   "outputs": [],
   "source": [
    "data_list = []\n",
    "# print(len(req_data))\n",
    "try:\n",
    "    for i in range(1, len(req_data)):\n",
    "        d = {}\n",
    "        jd = req_data[i][\"widget\"][\"data\"][\"products\"]\n",
    "        # print(len(jd))\n",
    "        # print(\"i: \", i, end=\"\\n\")\n",
    "        for j in range(len(jd)):\n",
    "            jd2 = jd[j][\"productInfo\"][\"value\"]\n",
    "\n",
    "            d[\"title\"] = jd2[\"titles\"][\"title\"]\n",
    "            d[\"keySpecs\"] = jd2[\"keySpecs\"]\n",
    "            d[\"rating\"] = jd2[\"rating\"][\"average\"]\n",
    "            d[\"ratingCount\"] = jd2[\"rating\"][\"count\"]\n",
    "            d[\"price\"] = jd2[\"pricing\"][\"finalPrice\"][\"value\"]\n",
    "            #d[\"warranty\"] = jd2[\"warrantySummary\"]\n",
    "            d[\"url\"] = jd2[\"smartUrl\"]\n",
    "\n",
    "            # You can uncomment below lines if you want to print json output on terminal\n",
    "\n",
    "            # print(\"Title: \",jd2[\"titles\"][\"title\"],end=\"\\n\")\n",
    "            # print(\"key specs: \", jd2[\"keySpecs\"], end=\"\\n\")\n",
    "            # print(\"Rating: \", jd2[\"rating\"][\"average\"], end=\"\\n\")\n",
    "            # print(\"Total ratings: \", jd2[\"rating\"][\"count\"], end=\"\\n\")\n",
    "            # print(\"Price: \", jd2[\"pricing\"][\"finalPrice\"][\"value\"],end=\"\\n\")\n",
    "            # print(\"warranty: \", jd2[\"warrantySummary\"], end=\"\\n\")\n",
    "            # print(\"Smart url: \", jd2[\"smartUrl\"], end=\"\\n\")\n",
    "        data_list.append(d)\n",
    "        \n",
    "except:\n",
    "    pass \n",
    "# dumping data to result.json file\n",
    "    # print(list(data_list))\n",
    "with open(\"flipkart\"+'.json', 'w') as fp:\n",
    "    json.dump(data_list, fp)\n",
    "\n",
    "# Now let us write our data to csv file\n",
    "data_file = open(\"flipkart\"+'.csv', 'w') \n",
    "\n",
    "# create the csv writer object \n",
    "csv_writer = csv.writer(data_file) \n",
    "\n",
    "# Counter variable used for writing  \n",
    "# headers to the CSV file \n",
    "count = 0\n",
    "\n",
    "\n"
   ]
  },
  {
   "cell_type": "code",
   "execution_count": 10,
   "id": "ec1b8b4b",
   "metadata": {},
   "outputs": [],
   "source": [
    "for data in data_list:\n",
    "    if count == 0: \n",
    "\n",
    "        # Writing headers of CSV file \n",
    "        header = data.keys() \n",
    "        csv_writer.writerow(header) \n",
    "        count += 1\n",
    "        \n",
    "    # Writing data of CSV file \n",
    "\n",
    "    csv_writer.writerow(data.values()) \n",
    "\n",
    "\n",
    "with open('flipkart.csv') as csv_file:\n",
    "    reader = csv.reader(csv_file, delimiter=',')\n",
    "    rows = list(reader)\n",
    "i,j = 0,2\n",
    "while i in range(len(rows)):\n",
    "    try:\n",
    "        name = rows[j][0]\n",
    "        #name = \" \".join(name.split(' ')[0:2])\n",
    "        #print(name)\n",
    "        #print(\"name = \",name)\n",
    "        names.append(name)\n",
    "        i += 1\n",
    "        j += 2\n",
    "    except:\n",
    "            break\n"
   ]
  },
  {
   "cell_type": "code",
   "execution_count": 11,
   "id": "e69d6a81",
   "metadata": {},
   "outputs": [
    {
     "name": "stdout",
     "output_type": "stream",
     "text": [
      "Best results 24\n"
     ]
    }
   ],
   "source": [
    "print(\"Best results\",len(names))\n",
    "#print(names,len(names))\n",
    "if len(names) <= 10:\n",
    "    flipkart_url = \"https://www.flipkart.com/search?q=\" + q\n",
    "    print(flipkart_url)\n",
    "    uClient = uReq(flipkart_url)\n",
    "    flipkartPage = uClient.read()\n",
    "    uClient.close()\n",
    "    flipkart_html = bs(flipkartPage, \"html.parser\")\n",
    "    bigboxes = flipkart_html.find_all(\"a\", {\"class\": \"s1Q9rs\"})\n",
    "    soup = BeautifulSoup(flipkartPage, 'html.parser')\n",
    "    info = soup.select(\"[class~=s1Q9rs]\")\n",
    "    flipPrices = soup.select(\"[class =_30jeq3]\")\n",
    "    prodNames = [i.get('title') for i in info]\n",
    "    names = prodNames\n",
    "    df = pd.DataFrame(list(zip(prodNames, flipPrices)), \n",
    "                columns =['product_name', 'Flipkart_price']) \n",
    "    df.to_csv('flipkart.csv')\n",
    "    print(df)\n",
    "\n",
    "else:\n",
    "    with open('flipkart.csv') as csv_file:\n",
    "        reader = csv.reader(csv_file, delimiter=',')\n",
    "        rows = list(reader)"
   ]
  },
  {
   "cell_type": "code",
   "execution_count": 12,
   "id": "95bfdbd5",
   "metadata": {},
   "outputs": [
    {
     "name": "stdout",
     "output_type": "stream",
     "text": [
      "                                         Product_name Flipkart_price\n",
      "0   Infinix INBook X2 Plus Core i7 11th Gen - (16 ...          52990\n",
      "1   Infinix INBook X2 Plus Core i5 11th Gen - (8 G...          42990\n",
      "2   ASUS VivoBook 15 (2022) Core i5 10th Gen - (8 ...          42990\n",
      "3   ASUS TUF Gaming F15 Core i5 10th Gen - (8 GB/5...          55990\n",
      "4   ASUS VivoBook 15 (2022) Core i3 10th Gen - (8 ...          35990\n",
      "5   HP Pavilion Core i5 12th Gen - (8 GB/512 GB SS...          65090\n",
      "6   MSI Core i7 11th Gen - (8 GB/512 GB SSD/Window...          77990\n",
      "7   Infinix X1 Series Core i7 10th Gen - (16 GB/51...          50990\n",
      "8   HP Athlon Dual Core 3050U - (8 GB/512 GB SSD/W...          28990\n",
      "9   realme Book(Slim) Intel Evo Core i5 11th Gen -...          59999\n",
      "10  Infinix X1 Slim Series Core i5 10th Gen - (8 G...          39990\n",
      "11  Infinix X1 Series Core i7 10th Gen - (16 GB/51...          50990\n",
      "12  MSI Bravo 15 Ryzen 5 Hexa Core AMD R5-5600H - ...          54990\n",
      "13  acer Aspire 7 Ryzen 5 Hexa Core AMD R5-5500U -...          47990\n",
      "14  RedmiBook 15 Core i3 11th Gen - (8 GB/256 GB S...          27990\n",
      "15  ASUS TUF Gaming A17 with 90Whr Battery Ryzen 5...          60990\n",
      "16  Infinix INBook X2 Plus Core i7 11th Gen - (16 ...          52990\n",
      "17  Infinix X1 Slim Series Core i7 10th Gen - (16 ...          49990\n",
      "18  DELL Inspiron Athlon Dual Core 3050U - (8 GB/2...          31990\n",
      "19  ASUS VivoBook 15 (2022) Core i5 11th Gen - (8 ...          50990\n",
      "20  Infinix X1 Slim Series Core i5 10th Gen - (16 ...          44990\n",
      "21  Infinix X1 Slim Series Core i7 10th Gen - (16 ...          49990\n",
      "22  Lenovo IdeaPad 1 Ryzen 5 Quad Core 3500U - (8 ...          44490\n",
      "23  RedmiBook Pro Core i5 11th Gen - (8 GB/512 GB ...          39990\n"
     ]
    }
   ],
   "source": [
    "    i,j = 0,2\n",
    "    while i in range(len(rows)):\n",
    "        try:\n",
    "            price = rows[j][4]\n",
    "            #price = price[i].text\n",
    "            #print(\"price = \",price)\n",
    "            flipPrices.append(price)\n",
    "            i += 1\n",
    "            j += 2\n",
    "        except:\n",
    "            break\n",
    "    df = pd.DataFrame(list(zip(names, flipPrices)), \n",
    "            columns =['Product_name', 'Flipkart_price'])\n",
    "\n",
    "    print(df)\n",
    "    df.to_csv('flipkart.csv')\n",
    "\n",
    "data_file.close()"
   ]
  },
  {
   "cell_type": "code",
   "execution_count": null,
   "id": "a6ac0ceb",
   "metadata": {},
   "outputs": [],
   "source": []
  }
 ],
 "metadata": {
  "kernelspec": {
   "display_name": "Python 3 (ipykernel)",
   "language": "python",
   "name": "python3"
  },
  "language_info": {
   "codemirror_mode": {
    "name": "ipython",
    "version": 3
   },
   "file_extension": ".py",
   "mimetype": "text/x-python",
   "name": "python",
   "nbconvert_exporter": "python",
   "pygments_lexer": "ipython3",
   "version": "3.9.7"
  }
 },
 "nbformat": 4,
 "nbformat_minor": 5
}
